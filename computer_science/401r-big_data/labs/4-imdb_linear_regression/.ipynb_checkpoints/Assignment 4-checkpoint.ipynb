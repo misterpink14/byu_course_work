{
 "cells": [
  {
   "cell_type": "markdown",
   "metadata": {},
   "source": [
    "# Assignment 4\n",
    "\n",
    "## Summary of Data Preprocessing\n",
    "\n",
    "For each data predictor report whether:\n",
    "\n",
    "+ the variable was included unaltered\n",
    "+ the variable was included but altered\n",
    "+ the varaible was excluded and why\n",
    "\n",
    "### Setup:"
   ]
  },
  {
   "cell_type": "code",
   "execution_count": 91,
   "metadata": {
    "collapsed": false
   },
   "outputs": [],
   "source": [
    "import pandas\n",
    "import matplotlib.pyplot as plot\n",
    "\n",
    "# allows plots to appear directly in the notebook\n",
    "%matplotlib inline"
   ]
  },
  {
   "cell_type": "markdown",
   "metadata": {
    "collapsed": true
   },
   "source": [
    "### Get the Movie Data"
   ]
  },
  {
   "cell_type": "code",
   "execution_count": 92,
   "metadata": {
    "collapsed": false,
    "scrolled": true
   },
   "outputs": [
    {
     "data": {
      "text/html": [
       "<div>\n",
       "<table border=\"1\" class=\"dataframe\">\n",
       "  <thead>\n",
       "    <tr style=\"text-align: right;\">\n",
       "      <th></th>\n",
       "      <th>color</th>\n",
       "      <th>director_name</th>\n",
       "      <th>num_critic_for_reviews</th>\n",
       "      <th>duration</th>\n",
       "      <th>director_facebook_likes</th>\n",
       "      <th>actor_3_facebook_likes</th>\n",
       "      <th>actor_2_name</th>\n",
       "      <th>actor_1_facebook_likes</th>\n",
       "      <th>gross</th>\n",
       "      <th>genres</th>\n",
       "      <th>...</th>\n",
       "      <th>num_user_for_reviews</th>\n",
       "      <th>language</th>\n",
       "      <th>country</th>\n",
       "      <th>content_rating</th>\n",
       "      <th>budget</th>\n",
       "      <th>title_year</th>\n",
       "      <th>actor_2_facebook_likes</th>\n",
       "      <th>imdb_score</th>\n",
       "      <th>aspect_ratio</th>\n",
       "      <th>movie_facebook_likes</th>\n",
       "    </tr>\n",
       "  </thead>\n",
       "  <tbody>\n",
       "    <tr>\n",
       "      <th>0</th>\n",
       "      <td>Color</td>\n",
       "      <td>James Cameron</td>\n",
       "      <td>723.0</td>\n",
       "      <td>178.0</td>\n",
       "      <td>0.0</td>\n",
       "      <td>855.0</td>\n",
       "      <td>Joel David Moore</td>\n",
       "      <td>1000.0</td>\n",
       "      <td>760505847.0</td>\n",
       "      <td>Action|Adventure|Fantasy|Sci-Fi</td>\n",
       "      <td>...</td>\n",
       "      <td>3054.0</td>\n",
       "      <td>English</td>\n",
       "      <td>USA</td>\n",
       "      <td>PG-13</td>\n",
       "      <td>237000000.0</td>\n",
       "      <td>2009.0</td>\n",
       "      <td>936.0</td>\n",
       "      <td>7.9</td>\n",
       "      <td>1.78</td>\n",
       "      <td>33000</td>\n",
       "    </tr>\n",
       "    <tr>\n",
       "      <th>1</th>\n",
       "      <td>Color</td>\n",
       "      <td>Gore Verbinski</td>\n",
       "      <td>302.0</td>\n",
       "      <td>169.0</td>\n",
       "      <td>563.0</td>\n",
       "      <td>1000.0</td>\n",
       "      <td>Orlando Bloom</td>\n",
       "      <td>40000.0</td>\n",
       "      <td>309404152.0</td>\n",
       "      <td>Action|Adventure|Fantasy</td>\n",
       "      <td>...</td>\n",
       "      <td>1238.0</td>\n",
       "      <td>English</td>\n",
       "      <td>USA</td>\n",
       "      <td>PG-13</td>\n",
       "      <td>300000000.0</td>\n",
       "      <td>2007.0</td>\n",
       "      <td>5000.0</td>\n",
       "      <td>7.1</td>\n",
       "      <td>2.35</td>\n",
       "      <td>0</td>\n",
       "    </tr>\n",
       "    <tr>\n",
       "      <th>2</th>\n",
       "      <td>Color</td>\n",
       "      <td>Sam Mendes</td>\n",
       "      <td>602.0</td>\n",
       "      <td>148.0</td>\n",
       "      <td>0.0</td>\n",
       "      <td>161.0</td>\n",
       "      <td>Rory Kinnear</td>\n",
       "      <td>11000.0</td>\n",
       "      <td>200074175.0</td>\n",
       "      <td>Action|Adventure|Thriller</td>\n",
       "      <td>...</td>\n",
       "      <td>994.0</td>\n",
       "      <td>English</td>\n",
       "      <td>UK</td>\n",
       "      <td>PG-13</td>\n",
       "      <td>245000000.0</td>\n",
       "      <td>2015.0</td>\n",
       "      <td>393.0</td>\n",
       "      <td>6.8</td>\n",
       "      <td>2.35</td>\n",
       "      <td>85000</td>\n",
       "    </tr>\n",
       "    <tr>\n",
       "      <th>3</th>\n",
       "      <td>Color</td>\n",
       "      <td>Christopher Nolan</td>\n",
       "      <td>813.0</td>\n",
       "      <td>164.0</td>\n",
       "      <td>22000.0</td>\n",
       "      <td>23000.0</td>\n",
       "      <td>Christian Bale</td>\n",
       "      <td>27000.0</td>\n",
       "      <td>448130642.0</td>\n",
       "      <td>Action|Thriller</td>\n",
       "      <td>...</td>\n",
       "      <td>2701.0</td>\n",
       "      <td>English</td>\n",
       "      <td>USA</td>\n",
       "      <td>PG-13</td>\n",
       "      <td>250000000.0</td>\n",
       "      <td>2012.0</td>\n",
       "      <td>23000.0</td>\n",
       "      <td>8.5</td>\n",
       "      <td>2.35</td>\n",
       "      <td>164000</td>\n",
       "    </tr>\n",
       "    <tr>\n",
       "      <th>4</th>\n",
       "      <td>NaN</td>\n",
       "      <td>Doug Walker</td>\n",
       "      <td>NaN</td>\n",
       "      <td>NaN</td>\n",
       "      <td>131.0</td>\n",
       "      <td>NaN</td>\n",
       "      <td>Rob Walker</td>\n",
       "      <td>131.0</td>\n",
       "      <td>NaN</td>\n",
       "      <td>Documentary</td>\n",
       "      <td>...</td>\n",
       "      <td>NaN</td>\n",
       "      <td>NaN</td>\n",
       "      <td>NaN</td>\n",
       "      <td>NaN</td>\n",
       "      <td>NaN</td>\n",
       "      <td>NaN</td>\n",
       "      <td>12.0</td>\n",
       "      <td>7.1</td>\n",
       "      <td>NaN</td>\n",
       "      <td>0</td>\n",
       "    </tr>\n",
       "  </tbody>\n",
       "</table>\n",
       "<p>5 rows × 28 columns</p>\n",
       "</div>"
      ],
      "text/plain": [
       "   color      director_name  num_critic_for_reviews  duration  \\\n",
       "0  Color      James Cameron                   723.0     178.0   \n",
       "1  Color     Gore Verbinski                   302.0     169.0   \n",
       "2  Color         Sam Mendes                   602.0     148.0   \n",
       "3  Color  Christopher Nolan                   813.0     164.0   \n",
       "4    NaN        Doug Walker                     NaN       NaN   \n",
       "\n",
       "   director_facebook_likes  actor_3_facebook_likes      actor_2_name  \\\n",
       "0                      0.0                   855.0  Joel David Moore   \n",
       "1                    563.0                  1000.0     Orlando Bloom   \n",
       "2                      0.0                   161.0      Rory Kinnear   \n",
       "3                  22000.0                 23000.0    Christian Bale   \n",
       "4                    131.0                     NaN        Rob Walker   \n",
       "\n",
       "   actor_1_facebook_likes        gross                           genres  \\\n",
       "0                  1000.0  760505847.0  Action|Adventure|Fantasy|Sci-Fi   \n",
       "1                 40000.0  309404152.0         Action|Adventure|Fantasy   \n",
       "2                 11000.0  200074175.0        Action|Adventure|Thriller   \n",
       "3                 27000.0  448130642.0                  Action|Thriller   \n",
       "4                   131.0          NaN                      Documentary   \n",
       "\n",
       "          ...          num_user_for_reviews language  country  content_rating  \\\n",
       "0         ...                        3054.0  English      USA           PG-13   \n",
       "1         ...                        1238.0  English      USA           PG-13   \n",
       "2         ...                         994.0  English       UK           PG-13   \n",
       "3         ...                        2701.0  English      USA           PG-13   \n",
       "4         ...                           NaN      NaN      NaN             NaN   \n",
       "\n",
       "        budget  title_year actor_2_facebook_likes imdb_score  aspect_ratio  \\\n",
       "0  237000000.0      2009.0                  936.0        7.9          1.78   \n",
       "1  300000000.0      2007.0                 5000.0        7.1          2.35   \n",
       "2  245000000.0      2015.0                  393.0        6.8          2.35   \n",
       "3  250000000.0      2012.0                23000.0        8.5          2.35   \n",
       "4          NaN         NaN                   12.0        7.1           NaN   \n",
       "\n",
       "  movie_facebook_likes  \n",
       "0                33000  \n",
       "1                    0  \n",
       "2                85000  \n",
       "3               164000  \n",
       "4                    0  \n",
       "\n",
       "[5 rows x 28 columns]"
      ]
     },
     "execution_count": 92,
     "metadata": {},
     "output_type": "execute_result"
    }
   ],
   "source": [
    "movieData = pandas.read_csv(\"IMDb.csv\")\n",
    "movieData.head()"
   ]
  },
  {
   "cell_type": "markdown",
   "metadata": {},
   "source": [
    "#### Number of data points\n",
    "\n",
    "Get the number of data points, remove null values, and compare the changes"
   ]
  },
  {
   "cell_type": "code",
   "execution_count": 93,
   "metadata": {
    "collapsed": false
   },
   "outputs": [
    {
     "data": {
      "text/plain": [
       "(5043, 28)"
      ]
     },
     "execution_count": 93,
     "metadata": {},
     "output_type": "execute_result"
    }
   ],
   "source": [
    "movieData.shape"
   ]
  },
  {
   "cell_type": "markdown",
   "metadata": {},
   "source": [
    "#### Remove and alter features"
   ]
  },
  {
   "cell_type": "code",
   "execution_count": 94,
   "metadata": {
    "collapsed": false
   },
   "outputs": [
    {
     "data": {
      "text/html": [
       "<div>\n",
       "<table border=\"1\" class=\"dataframe\">\n",
       "  <thead>\n",
       "    <tr style=\"text-align: right;\">\n",
       "      <th></th>\n",
       "      <th>duration</th>\n",
       "      <th>director_facebook_likes</th>\n",
       "      <th>actor_3_facebook_likes</th>\n",
       "      <th>actor_1_facebook_likes</th>\n",
       "      <th>gross</th>\n",
       "      <th>cast_total_facebook_likes</th>\n",
       "      <th>facenumber_in_poster</th>\n",
       "      <th>budget</th>\n",
       "      <th>title_year</th>\n",
       "      <th>actor_2_facebook_likes</th>\n",
       "      <th>movie_facebook_likes</th>\n",
       "      <th>is_color</th>\n",
       "      <th>is_bw</th>\n",
       "      <th>is_rated_r</th>\n",
       "      <th>is_rated_pg13</th>\n",
       "    </tr>\n",
       "  </thead>\n",
       "  <tbody>\n",
       "    <tr>\n",
       "      <th>0</th>\n",
       "      <td>178.0</td>\n",
       "      <td>0.0</td>\n",
       "      <td>855.0</td>\n",
       "      <td>1000.0</td>\n",
       "      <td>760505847.0</td>\n",
       "      <td>4834</td>\n",
       "      <td>0.0</td>\n",
       "      <td>237000000.0</td>\n",
       "      <td>2009.0</td>\n",
       "      <td>936.0</td>\n",
       "      <td>33000</td>\n",
       "      <td>1.0</td>\n",
       "      <td>0.0</td>\n",
       "      <td>0</td>\n",
       "      <td>1</td>\n",
       "    </tr>\n",
       "    <tr>\n",
       "      <th>1</th>\n",
       "      <td>169.0</td>\n",
       "      <td>563.0</td>\n",
       "      <td>1000.0</td>\n",
       "      <td>40000.0</td>\n",
       "      <td>309404152.0</td>\n",
       "      <td>48350</td>\n",
       "      <td>0.0</td>\n",
       "      <td>300000000.0</td>\n",
       "      <td>2007.0</td>\n",
       "      <td>5000.0</td>\n",
       "      <td>0</td>\n",
       "      <td>1.0</td>\n",
       "      <td>0.0</td>\n",
       "      <td>0</td>\n",
       "      <td>1</td>\n",
       "    </tr>\n",
       "    <tr>\n",
       "      <th>2</th>\n",
       "      <td>148.0</td>\n",
       "      <td>0.0</td>\n",
       "      <td>161.0</td>\n",
       "      <td>11000.0</td>\n",
       "      <td>200074175.0</td>\n",
       "      <td>11700</td>\n",
       "      <td>1.0</td>\n",
       "      <td>245000000.0</td>\n",
       "      <td>2015.0</td>\n",
       "      <td>393.0</td>\n",
       "      <td>85000</td>\n",
       "      <td>1.0</td>\n",
       "      <td>0.0</td>\n",
       "      <td>0</td>\n",
       "      <td>1</td>\n",
       "    </tr>\n",
       "    <tr>\n",
       "      <th>3</th>\n",
       "      <td>164.0</td>\n",
       "      <td>22000.0</td>\n",
       "      <td>23000.0</td>\n",
       "      <td>27000.0</td>\n",
       "      <td>448130642.0</td>\n",
       "      <td>106759</td>\n",
       "      <td>0.0</td>\n",
       "      <td>250000000.0</td>\n",
       "      <td>2012.0</td>\n",
       "      <td>23000.0</td>\n",
       "      <td>164000</td>\n",
       "      <td>1.0</td>\n",
       "      <td>0.0</td>\n",
       "      <td>0</td>\n",
       "      <td>1</td>\n",
       "    </tr>\n",
       "    <tr>\n",
       "      <th>5</th>\n",
       "      <td>132.0</td>\n",
       "      <td>475.0</td>\n",
       "      <td>530.0</td>\n",
       "      <td>640.0</td>\n",
       "      <td>73058679.0</td>\n",
       "      <td>1873</td>\n",
       "      <td>1.0</td>\n",
       "      <td>263700000.0</td>\n",
       "      <td>2012.0</td>\n",
       "      <td>632.0</td>\n",
       "      <td>24000</td>\n",
       "      <td>1.0</td>\n",
       "      <td>0.0</td>\n",
       "      <td>0</td>\n",
       "      <td>1</td>\n",
       "    </tr>\n",
       "  </tbody>\n",
       "</table>\n",
       "</div>"
      ],
      "text/plain": [
       "   duration  director_facebook_likes  actor_3_facebook_likes  \\\n",
       "0     178.0                      0.0                   855.0   \n",
       "1     169.0                    563.0                  1000.0   \n",
       "2     148.0                      0.0                   161.0   \n",
       "3     164.0                  22000.0                 23000.0   \n",
       "5     132.0                    475.0                   530.0   \n",
       "\n",
       "   actor_1_facebook_likes        gross  cast_total_facebook_likes  \\\n",
       "0                  1000.0  760505847.0                       4834   \n",
       "1                 40000.0  309404152.0                      48350   \n",
       "2                 11000.0  200074175.0                      11700   \n",
       "3                 27000.0  448130642.0                     106759   \n",
       "5                   640.0   73058679.0                       1873   \n",
       "\n",
       "   facenumber_in_poster       budget  title_year  actor_2_facebook_likes  \\\n",
       "0                   0.0  237000000.0      2009.0                   936.0   \n",
       "1                   0.0  300000000.0      2007.0                  5000.0   \n",
       "2                   1.0  245000000.0      2015.0                   393.0   \n",
       "3                   0.0  250000000.0      2012.0                 23000.0   \n",
       "5                   1.0  263700000.0      2012.0                   632.0   \n",
       "\n",
       "   movie_facebook_likes  is_color  is_bw  is_rated_r  is_rated_pg13  \n",
       "0                 33000       1.0    0.0           0              1  \n",
       "1                     0       1.0    0.0           0              1  \n",
       "2                 85000       1.0    0.0           0              1  \n",
       "3                164000       1.0    0.0           0              1  \n",
       "5                 24000       1.0    0.0           0              1  "
      ]
     },
     "execution_count": 94,
     "metadata": {},
     "output_type": "execute_result"
    }
   ],
   "source": [
    "del movieData['director_name']\n",
    "del movieData['actor_2_name']\n",
    "del movieData['genres']\n",
    "del movieData['actor_1_name']\n",
    "del movieData['actor_3_name']\n",
    "del movieData['plot_keywords']\n",
    "del movieData['num_critic_for_reviews']\n",
    "del movieData['num_voted_users']\n",
    "del movieData['num_user_for_reviews']\n",
    "del movieData['imdb_score']\n",
    "del movieData['movie_title']\n",
    "del movieData['movie_imdb_link']\n",
    "del movieData['aspect_ratio']\n",
    "del movieData['country']\n",
    "del movieData['language']\n",
    "\n",
    "\n",
    "movieData['is_color'] = movieData.color.map({'Color':1, 'Black and White':0})\n",
    "movieData['is_bw'] = movieData.color.map({'Color':0, 'Black and White':1})\n",
    "del movieData['color']\n",
    "\n",
    "movieData['is_rated_r'] = movieData.content_rating.map(lambda x: 1 if x == \"R\" else 0)\n",
    "movieData['is_rated_pg13'] = movieData.content_rating.map(lambda x: 1 if x == \"PG-13\" else 0)\n",
    "del movieData['content_rating']\n",
    "\n",
    "movieData = movieData.dropna()\n",
    "\n",
    "movieData.head()"
   ]
  },
  {
   "cell_type": "markdown",
   "metadata": {
    "collapsed": true
   },
   "source": [
    "### The variable was included unaltered\n",
    "\n",
    "+ gross\n",
    "+ duration\n",
    "+ director_facebook_likes\n",
    "+ actor_3_facebook_likes\n",
    "+ actor_1_facebook_likes\n",
    "+ cast_total_facebook_likes\n",
    "+ facenumber_in_poster\n",
    "+ budget\n",
    "+ title_year\n",
    "+ actor_2_facebook_likes\n",
    "+ movie_facebook_likes\n",
    "\n",
    "### The variable was included but altered\n",
    "\n",
    "The following variables should be altered as an expansion for categorical variables:\n",
    "\n",
    "+ color\n",
    "+ language\n",
    "+ country\n",
    "+ content_rating\n",
    "\n",
    "### The varaible was excluded and why\n",
    "\n",
    "The following have been removed due to the amount of variance within them:\n",
    "\n",
    "+ director_name\n",
    "+ actor_2_name\n",
    "+ genres\n",
    "+ actor_1_name\n",
    "+ actor_3_name\n",
    "+ plot_keywords\n",
    "+ country\n",
    "+ language\n",
    "\n",
    "The following have been removed because they happen after a movie is out:\n",
    "\n",
    "+ num_critic_for_reviews\n",
    "+ num_voted_users\n",
    "+ num_user_for_reviews\n",
    "+ imdb_score\n",
    "\n",
    "The following have been removed because they  aren't relevant\n",
    "\n",
    "+ movie_title \n",
    "+ movie_imdb_link\n",
    "+ aspect_ratio\n"
   ]
  },
  {
   "cell_type": "code",
   "execution_count": 95,
   "metadata": {
    "collapsed": false
   },
   "outputs": [
    {
     "data": {
      "image/png": "[encoded data removed]",
      "text/plain": [
       "<matplotlib.figure.Figure at 0x10d9f8400>"
      ]
     },
     "metadata": {},
     "output_type": "display_data"
    },
    {
     "data": {
      "image/png": "[encoded data removed]",
      "text/plain": [
       "<matplotlib.figure.Figure at 0x10b1d3940>"
      ]
     },
     "metadata": {},
     "output_type": "display_data"
    }
   ],
   "source": [
    "import matplotlib.pyplot as plt\n",
    "import warnings\n",
    "import math\n",
    "\n",
    "with warnings.catch_warnings():\n",
    "    plt.hist(movieData.gross, 50)\n",
    "    plt.show()\n",
    "\n",
    "movieData.gross = movieData.gross.apply(math.log)\n",
    "\n",
    "with warnings.catch_warnings():\n",
    "    plt.hist(movieData.gross, 50)\n",
    "    plt.show()"
   ]
  },
  {
   "cell_type": "code",
   "execution_count": 96,
   "metadata": {
    "collapsed": false,
    "scrolled": true
   },
   "outputs": [
    {
     "data": {
      "text/html": [
       "<div>\n",
       "<table border=\"1\" class=\"dataframe\">\n",
       "  <thead>\n",
       "    <tr style=\"text-align: right;\">\n",
       "      <th></th>\n",
       "      <th>duration</th>\n",
       "      <th>director_facebook_likes</th>\n",
       "      <th>actor_3_facebook_likes</th>\n",
       "      <th>actor_1_facebook_likes</th>\n",
       "      <th>gross</th>\n",
       "      <th>cast_total_facebook_likes</th>\n",
       "      <th>facenumber_in_poster</th>\n",
       "      <th>budget</th>\n",
       "      <th>title_year</th>\n",
       "      <th>actor_2_facebook_likes</th>\n",
       "      <th>movie_facebook_likes</th>\n",
       "      <th>is_color</th>\n",
       "      <th>is_bw</th>\n",
       "      <th>is_rated_r</th>\n",
       "      <th>is_rated_pg13</th>\n",
       "    </tr>\n",
       "  </thead>\n",
       "  <tbody>\n",
       "    <tr>\n",
       "      <th>0</th>\n",
       "      <td>3.040106</td>\n",
       "      <td>-0.255423</td>\n",
       "      <td>0.049108</td>\n",
       "      <td>-0.429419</td>\n",
       "      <td>1.766748</td>\n",
       "      <td>-0.343884</td>\n",
       "      <td>-0.671706</td>\n",
       "      <td>0.843246</td>\n",
       "      <td>0.607935</td>\n",
       "      <td>-0.233966</td>\n",
       "      <td>1.112766</td>\n",
       "      <td>0.0</td>\n",
       "      <td>0.0</td>\n",
       "      <td>-0.900196</td>\n",
       "      <td>1.374618</td>\n",
       "    </tr>\n",
       "    <tr>\n",
       "      <th>1</th>\n",
       "      <td>2.639168</td>\n",
       "      <td>-0.064358</td>\n",
       "      <td>0.125962</td>\n",
       "      <td>2.076963</td>\n",
       "      <td>1.356432</td>\n",
       "      <td>1.930287</td>\n",
       "      <td>-0.671706</td>\n",
       "      <td>1.121273</td>\n",
       "      <td>0.391237</td>\n",
       "      <td>0.663972</td>\n",
       "      <td>-0.431104</td>\n",
       "      <td>0.0</td>\n",
       "      <td>0.0</td>\n",
       "      <td>-0.900196</td>\n",
       "      <td>1.374618</td>\n",
       "    </tr>\n",
       "    <tr>\n",
       "      <th>2</th>\n",
       "      <td>1.703647</td>\n",
       "      <td>-0.255423</td>\n",
       "      <td>-0.318731</td>\n",
       "      <td>0.213243</td>\n",
       "      <td>1.157528</td>\n",
       "      <td>0.014937</td>\n",
       "      <td>-0.185813</td>\n",
       "      <td>0.878551</td>\n",
       "      <td>1.258028</td>\n",
       "      <td>-0.353941</td>\n",
       "      <td>3.545530</td>\n",
       "      <td>0.0</td>\n",
       "      <td>0.0</td>\n",
       "      <td>-0.900196</td>\n",
       "      <td>1.374618</td>\n",
       "    </tr>\n",
       "    <tr>\n",
       "      <th>3</th>\n",
       "      <td>2.416425</td>\n",
       "      <td>7.210685</td>\n",
       "      <td>11.786560</td>\n",
       "      <td>1.241502</td>\n",
       "      <td>1.525442</td>\n",
       "      <td>4.982775</td>\n",
       "      <td>-0.671706</td>\n",
       "      <td>0.900617</td>\n",
       "      <td>0.932982</td>\n",
       "      <td>4.641057</td>\n",
       "      <td>7.241460</td>\n",
       "      <td>0.0</td>\n",
       "      <td>0.0</td>\n",
       "      <td>-0.900196</td>\n",
       "      <td>1.374618</td>\n",
       "    </tr>\n",
       "    <tr>\n",
       "      <th>4</th>\n",
       "      <td>0.990868</td>\n",
       "      <td>-0.094223</td>\n",
       "      <td>-0.123151</td>\n",
       "      <td>-0.452555</td>\n",
       "      <td>0.697897</td>\n",
       "      <td>-0.498627</td>\n",
       "      <td>-0.185813</td>\n",
       "      <td>0.961077</td>\n",
       "      <td>0.932982</td>\n",
       "      <td>-0.301134</td>\n",
       "      <td>0.691710</td>\n",
       "      <td>0.0</td>\n",
       "      <td>0.0</td>\n",
       "      <td>-0.900196</td>\n",
       "      <td>1.374618</td>\n",
       "    </tr>\n",
       "  </tbody>\n",
       "</table>\n",
       "</div>"
      ],
      "text/plain": [
       "   duration  director_facebook_likes  actor_3_facebook_likes  \\\n",
       "0  3.040106                -0.255423                0.049108   \n",
       "1  2.639168                -0.064358                0.125962   \n",
       "2  1.703647                -0.255423               -0.318731   \n",
       "3  2.416425                 7.210685               11.786560   \n",
       "4  0.990868                -0.094223               -0.123151   \n",
       "\n",
       "   actor_1_facebook_likes     gross  cast_total_facebook_likes  \\\n",
       "0               -0.429419  1.766748                  -0.343884   \n",
       "1                2.076963  1.356432                   1.930287   \n",
       "2                0.213243  1.157528                   0.014937   \n",
       "3                1.241502  1.525442                   4.982775   \n",
       "4               -0.452555  0.697897                  -0.498627   \n",
       "\n",
       "   facenumber_in_poster    budget  title_year  actor_2_facebook_likes  \\\n",
       "0             -0.671706  0.843246    0.607935               -0.233966   \n",
       "1             -0.671706  1.121273    0.391237                0.663972   \n",
       "2             -0.185813  0.878551    1.258028               -0.353941   \n",
       "3             -0.671706  0.900617    0.932982                4.641057   \n",
       "4             -0.185813  0.961077    0.932982               -0.301134   \n",
       "\n",
       "   movie_facebook_likes  is_color  is_bw  is_rated_r  is_rated_pg13  \n",
       "0              1.112766       0.0    0.0   -0.900196       1.374618  \n",
       "1             -0.431104       0.0    0.0   -0.900196       1.374618  \n",
       "2              3.545530       0.0    0.0   -0.900196       1.374618  \n",
       "3              7.241460       0.0    0.0   -0.900196       1.374618  \n",
       "4              0.691710       0.0    0.0   -0.900196       1.374618  "
      ]
     },
     "execution_count": 96,
     "metadata": {},
     "output_type": "execute_result"
    }
   ],
   "source": [
    "from sklearn import preprocessing\n",
    "\n",
    "min_max_scaler = preprocessing.StandardScaler()\n",
    "x_scaled = min_max_scaler.fit_transform(movieData)\n",
    "movieData = pandas.DataFrame(data=x_scaled, columns=movieData.columns)\n",
    "\n",
    "movieData.head()"
   ]
  },
  {
   "cell_type": "code",
   "execution_count": 97,
   "metadata": {
    "collapsed": false
   },
   "outputs": [
    {
     "name": "stdout",
     "output_type": "stream",
     "text": [
      "(2619, 15)\n",
      "(1123, 15)\n"
     ]
    }
   ],
   "source": [
    "from sklearn.cross_validation import train_test_split\n",
    "\n",
    "with warnings.catch_warnings():\n",
    "    movieTrain, movieTest = train_test_split(movieData, test_size=.3, random_state=123)\n",
    "    train = movieTrain.shape\n",
    "    test = movieTest.shape\n",
    "\n",
    "print(train)\n",
    "print(test)"
   ]
  },
  {
   "cell_type": "markdown",
   "metadata": {},
   "source": [
    "\n",
    "### Additional items\n",
    "\n",
    "Did the response variable require any transformation to satisfy regression model assumptions?\n",
    "\n",
    "+ Yes (see above)\n",
    "\n",
    "Were the included predictor variables standardized?\n",
    "\n",
    "+ Yes (see above)\n",
    "\n",
    "What training / test split was employed?\n",
    "\n",
    "+ 30 / 70\n"
   ]
  },
  {
   "cell_type": "markdown",
   "metadata": {},
   "source": [
    "## Summary of Model Selection\n",
    "\n",
    "1. Full Model\n",
    "2. Stepwise Model\n",
    "3. LASSO Model\n",
    "\n",
    "### Full Model"
   ]
  },
  {
   "cell_type": "code",
   "execution_count": 98,
   "metadata": {
    "collapsed": false
   },
   "outputs": [
    {
     "name": "stdout",
     "output_type": "stream",
     "text": [
      "36.8386710511\n",
      "15.8349767144\n"
     ]
    }
   ],
   "source": [
    "import statsmodels.formula.api as smf\n",
    "\n",
    "modelTrain = smf.ols(\n",
    "    formula='gross ~ 1 + duration + director_facebook_likes + \\\n",
    "            actor_3_facebook_likes + actor_1_facebook_likes + \\\n",
    "            cast_total_facebook_likes + facenumber_in_poster + budget + \\\n",
    "            title_year + actor_2_facebook_likes + C(is_color) + \\\n",
    "            C(is_bw) + C(is_rated_r) + C(is_rated_pg13)', \n",
    "    data=movieTrain).fit()\n",
    "\n",
    "modelTest = smf.ols(\n",
    "    formula='gross ~ 1 + duration + director_facebook_likes + \\\n",
    "            actor_3_facebook_likes + actor_1_facebook_likes + \\\n",
    "            cast_total_facebook_likes + facenumber_in_poster + budget + \\\n",
    "            title_year + actor_2_facebook_likes + C(is_color) + \\\n",
    "            C(is_bw) + C(is_rated_r) + C(is_rated_pg13)', \n",
    "    data=movieTest).fit()\n",
    "\n",
    "print(modelTrain.mse_model)\n",
    "print(modelTest.mse_model)"
   ]
  },
  {
   "cell_type": "markdown",
   "metadata": {},
   "source": [
    "\n",
    "### Stepwise Model\n",
    "\n",
    "Find the max p-value and remove it if not <= 0.05\n"
   ]
  },
  {
   "cell_type": "code",
   "execution_count": 99,
   "metadata": {
    "collapsed": false
   },
   "outputs": [
    {
     "name": "stdout",
     "output_type": "stream",
     "text": [
      "budget\n",
      "0.186465658201\n"
     ]
    }
   ],
   "source": [
    "print(modelTrain.pvalues.idxmax())\n",
    "print(modelTrain.pvalues[modelTrain.pvalues.idxmax()])"
   ]
  },
  {
   "cell_type": "markdown",
   "metadata": {},
   "source": [
    "\n",
    "Remove budget, because it has the highest p-value\n"
   ]
  },
  {
   "cell_type": "code",
   "execution_count": 100,
   "metadata": {
    "collapsed": false
   },
   "outputs": [
    {
     "name": "stdout",
     "output_type": "stream",
     "text": [
      "Intercept\n",
      "0.0402442097773\n"
     ]
    }
   ],
   "source": [
    "modelTrain = smf.ols(\n",
    "    formula='gross ~ 1 + duration + director_facebook_likes + \\\n",
    "            actor_3_facebook_likes + actor_1_facebook_likes + \\\n",
    "            cast_total_facebook_likes + facenumber_in_poster + \\\n",
    "            title_year + actor_2_facebook_likes + C(is_color) + \\\n",
    "            C(is_bw) + C(is_rated_r) + C(is_rated_pg13)', \n",
    "    data=movieTrain).fit()\n",
    "\n",
    "modelTest = smf.ols(\n",
    "    formula='gross ~ 1 + duration + director_facebook_likes + \\\n",
    "            actor_3_facebook_likes + actor_1_facebook_likes + \\\n",
    "            cast_total_facebook_likes + facenumber_in_poster + \\\n",
    "            title_year + actor_2_facebook_likes + C(is_color) + \\\n",
    "            C(is_bw) + C(is_rated_r) + C(is_rated_pg13)', \n",
    "    data=movieTest).fit()\n",
    "\n",
    "print(modelTrain.pvalues.idxmax())\n",
    "print(modelTrain.pvalues[modelTrain.pvalues.idxmax()])"
   ]
  },
  {
   "cell_type": "markdown",
   "metadata": {},
   "source": [
    "\n",
    "Now, our p-values are in an acceptable range\n"
   ]
  },
  {
   "cell_type": "code",
   "execution_count": 101,
   "metadata": {
    "collapsed": false,
    "scrolled": true
   },
   "outputs": [
    {
     "name": "stdout",
     "output_type": "stream",
     "text": [
      "40.3718764708\n",
      "17.3498240593\n"
     ]
    }
   ],
   "source": [
    "print(modelTrain.mse_model)\n",
    "print(modelTest.mse_model)"
   ]
  },
  {
   "cell_type": "markdown",
   "metadata": {
    "collapsed": true
   },
   "source": [
    "### LASSO Model\n",
    "\n"
   ]
  },
  {
   "cell_type": "code",
   "execution_count": 110,
   "metadata": {
    "collapsed": false
   },
   "outputs": [
    {
     "name": "stdout",
     "output_type": "stream",
     "text": [
      "training data MSE\n",
      "0.906707389168\n",
      "test data MSE\n",
      "0.872882338726\n",
      "\n",
      "training data R-square\n",
      "0.105412579384\n",
      "test data R-square\n",
      "0.0984680219819\n"
     ]
    }
   ],
   "source": [
    "from sklearn.linear_model import LassoLarsCV\n",
    "\n",
    "predvar = movieData[['duration', 'director_facebook_likes',\n",
    "                        'actor_3_facebook_likes', 'actor_1_facebook_likes',\n",
    "                        'cast_total_facebook_likes', 'facenumber_in_poster',\n",
    "                        'budget', 'title_year', 'actor_2_facebook_likes',\n",
    "                        'is_color', 'is_bw', 'is_rated_r', 'is_rated_pg13']]\n",
    "target = movieData.gross\n",
    "predictors = predvar.copy()\n",
    "\n",
    "pred_train, pred_test, resp_train, resp_test = train_test_split(\n",
    "                                    predictors, target, test_size=.3, random_state=123)\n",
    "\n",
    "model = LassoLarsCV(cv=10, precompute=True).fit(pred_train,resp_train)\n",
    "\n",
    "# MSE from training and test data\n",
    "from sklearn.metrics import mean_squared_error\n",
    "train_error = mean_squared_error(resp_train, model.predict(pred_train))\n",
    "test_error = mean_squared_error(resp_test, model.predict(pred_test))\n",
    "print ('training data MSE')\n",
    "print(train_error)\n",
    "print ('test data MSE')\n",
    "print(test_error)\n",
    "print('')\n",
    "\n",
    "# R-square from training and test data\n",
    "rsquared_train=model.score(pred_train,resp_train)\n",
    "rsquared_test=model.score(pred_test,resp_test)\n",
    "print ('training data R-square')\n",
    "print(rsquared_train)\n",
    "print ('test data R-square')\n",
    "print(rsquared_test)"
   ]
  },
  {
   "cell_type": "markdown",
   "metadata": {},
   "source": [
    "## Conclusion\n",
    "\n",
    "The LASSO model worked the best because it resulted with a smaller Mean Square Error\n",
    "\n",
    "Each variable's coefficient is as follows:\n"
   ]
  },
  {
   "cell_type": "code",
   "execution_count": 113,
   "metadata": {
    "collapsed": false
   },
   "outputs": [
    {
     "ename": "ValueError",
     "evalue": "too many values to unpack (expected 2)",
     "output_type": "error",
     "traceback": [
      "\u001b[0;31m---------------------------------------------------------------------------\u001b[0m",
      "\u001b[0;31mValueError\u001b[0m                                Traceback (most recent call last)",
      "\u001b[0;32m<ipython-input-113-ef28c4d199c0>\u001b[0m in \u001b[0;36m<module>\u001b[0;34m()\u001b[0m\n\u001b[0;32m----> 1\u001b[0;31m \u001b[0;32mfor\u001b[0m \u001b[0mk\u001b[0m\u001b[0;34m,\u001b[0m \u001b[0mval\u001b[0m \u001b[0;32min\u001b[0m \u001b[0mdict\u001b[0m\u001b[0;34m(\u001b[0m\u001b[0mzip\u001b[0m\u001b[0;34m(\u001b[0m\u001b[0mpredictors\u001b[0m\u001b[0;34m.\u001b[0m\u001b[0mcolumns\u001b[0m\u001b[0;34m,\u001b[0m \u001b[0mmodel\u001b[0m\u001b[0;34m.\u001b[0m\u001b[0mcoef_\u001b[0m\u001b[0;34m)\u001b[0m\u001b[0;34m)\u001b[0m\u001b[0;34m:\u001b[0m\u001b[0;34m\u001b[0m\u001b[0m\n\u001b[0m\u001b[1;32m      2\u001b[0m     \u001b[0mprint\u001b[0m\u001b[0;34m(\u001b[0m\u001b[0mk\u001b[0m \u001b[0;34m+\u001b[0m \u001b[0;34m\": \"\u001b[0m \u001b[0;34m+\u001b[0m \u001b[0mstr\u001b[0m\u001b[0;34m(\u001b[0m\u001b[0mval\u001b[0m\u001b[0;34m)\u001b[0m\u001b[0;34m)\u001b[0m\u001b[0;34m\u001b[0m\u001b[0m\n",
      "\u001b[0;31mValueError\u001b[0m: too many values to unpack (expected 2)"
     ]
    }
   ],
   "source": [
    "dict(zip(predictors.columns, model.coef_))"
   ]
  },
  {
   "cell_type": "code",
   "execution_count": null,
   "metadata": {
    "collapsed": true
   },
   "outputs": [],
   "source": []
  }
 ],
 "metadata": {
  "kernelspec": {
   "display_name": "Python 3",
   "language": "python",
   "name": "python3"
  },
  "language_info": {
   "codemirror_mode": {
    "name": "ipython",
    "version": 3
   },
   "file_extension": ".py",
   "mimetype": "text/x-python",
   "name": "python",
   "nbconvert_exporter": "python",
   "pygments_lexer": "ipython3",
   "version": "3.5.2"
  }
 },
 "nbformat": 4,
 "nbformat_minor": 1
}
